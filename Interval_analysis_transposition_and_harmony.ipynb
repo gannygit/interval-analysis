{
  "nbformat": 4,
  "nbformat_minor": 0,
  "metadata": {
    "colab": {
      "provenance": [],
      "authorship_tag": "ABX9TyMcaFMzVgrb/CwHAXmgzUEU",
      "include_colab_link": true
    },
    "kernelspec": {
      "name": "python3",
      "display_name": "Python 3"
    },
    "language_info": {
      "name": "python"
    }
  },
  "cells": [
    {
      "cell_type": "markdown",
      "metadata": {
        "id": "view-in-github",
        "colab_type": "text"
      },
      "source": [
        "<a href=\"https://colab.research.google.com/github/gannygit/interval-analysis-and-transposition/blob/main/Interval_analysis_transposition_and_harmony.ipynb\" target=\"_parent\"><img src=\"https://colab.research.google.com/assets/colab-badge.svg\" alt=\"Open In Colab\"/></a>"
      ]
    },
    {
      "cell_type": "markdown",
      "source": [
        "#Scale interval analysis\n",
        "\n",
        "Author: Bhushan Agarwal/ Gannygit\n",
        "\n",
        "In this Colab notebook, we will analyse intervals in a given musical scale, find possible transpositions and harmonies (chords) in the scale, and visualise the results. Basic familiarity with python coding as well as elementary music will be beneficial to make the most of this material.\n",
        "\n",
        "Just read through the text, run all code cells (changing key inputs as needed), and observe the output."
      ],
      "metadata": {
        "id": "PB4G8ORKUyOA"
      }
    },
    {
      "cell_type": "markdown",
      "source": [
        "##Introduction\n",
        "A musical scale contains a set of notes, usually between 5 and 7 notes, spanning an octave. These notes are separated by intervals. An interval is the difference in pitch between two sounds. The interval between any pair of notes can be described in terms of the semitones separating them. For example, the pair (komal re, sa) [or (ri1, sa)] has an interval of 1 semitone, or minor second, which is the same interval as the pair (shuddh ni, sa) [or (ni3, sa)].\n",
        "\n",
        "For the purposes of this analysis, we will ignore microtones and treat an interval as quantised; thus an interval of 85 cents can be considered 1 semitone. This way, the exact tuning of a scale is irrelevant. Any pitch class or svarasthāna differs from its adjacent pitch classes by 1 semitone."
      ],
      "metadata": {
        "id": "Ep3LMzWsVQsx"
      }
    },
    {
      "cell_type": "markdown",
      "source": [
        "###Approach\n",
        "For interval analysis, we only need a symbolic representation of the scale (or a melody); we don't need info about gamaka, fine-tuning (microtones), and musical context (such as ascent and descent).\n",
        "1. Symbolic score. This depicts the sequence of notes coded as a list (array) of numbers. We will define 0 to represent the tonic note, and all notes above and below it will be represented by the integer number of semitones separating that note from the tonic. Therefore, pa  in the middle octave will be 7, and komal dha (or dha1) in the lower octave will be -4. For example, the sequence of notes in the ascending scale of bilāval/śankarābharaṇam is [0,2,4,5,7,9,11,12].\n",
        "\n",
        "![chromatic](https://drive.google.com/uc?id=1IJV-6RnTV54TwHcYBeIWThiVjJ2PVSgG)\n",
        "\n",
        "\n",
        "| Number | Karnatic | Hindustani |Code|\n",
        "| :- | :- | :- ||\n",
        "|Lower octave||||\n",
        "|-12|sa|sa|sa\n",
        "| -11 | ri1 | komal re |re1\n",
        "| -10 | ri2/ga1 | shuddh re |re2\n",
        "| -9 | ri3/ga2 | komal ga |ga1\n",
        "| -8 | ga3 | shuddh ga |ga2\n",
        "| -7 | ma1 | shuddh ma |ma1\n",
        "| -6 | ma2 | tivra ma |ma2\n",
        "| -5 | pa | pa |pa\n",
        "| -4 | dha1 | komal dha |dha1\n",
        "| -3 | dha2/ni1 | shuddh dha |dha2\n",
        "| -2 | dha3/ni2 | komal ni |ni1\n",
        "| -1 | ni3 | shuddh ni |ni2\n",
        "|||||\n",
        "|Middle octave||||\n",
        "|0|sa|sa|Sa\n",
        "| 1 | ri1 | komal re |Re1\n",
        "| 2 | ri2/ga1 | shuddh re |Re2\n",
        "| 3 | ri3/ga2 | komal ga |Ga1\n",
        "| 4 | ga3 | shuddh ga |Ga2\n",
        "| 5 | ma1 | shuddh ma |Ma1\n",
        "| 6 | ma2 | tivra ma |Ma2\n",
        "| 7 | pa | pa |Pa\n",
        "| 8 | dha1 | komal dha |Dha1\n",
        "| 9 | dha2/ni1 | shuddh dha |Dha2\n",
        "| 10 | dha3/ni2 | komal ni |Ni1\n",
        "| 11 | ni3 | shuddh ni |Ni2\n",
        "|||||\n",
        "|Upper octave||||\n",
        "|12|sa|sa|SA\n",
        "| 13 | ri1 | komal re |RE1\n",
        "| 14 | ri2/ga1 | shuddh re |RE2\n",
        "| 15| ri3/ga2 | komal ga |GA1\n",
        "| 16 | ga3 | shuddh ga |GA2\n",
        "| 17 | ma1 | shuddh ma |MA1\n",
        "| 18 | ma2 | tivra ma |MA2\n",
        "| 19 | pa | pa |PA\n",
        "| 20 | dha1 | komal dha |DHA1\n",
        "| 21 | dha2/ni1 | shuddh dha |DHA2\n",
        "| 22 | dha3/ni2 | komal ni |NI1\n",
        "| 23 | ni3 | shuddh ni |NI2\n",
        "\n",
        "\n",
        "2.  MIDI file. MIDI is short for Musical Instrument Digital Interface. Devices that make and control sound — such as synthesizers, samplers, controllers, and computers  — communicate with each other using MIDI messages. We will create a MIDI file here that can be played using a MIDI player/synthesiser."
      ],
      "metadata": {
        "id": "nqenGRmkXtrI"
      }
    },
    {
      "cell_type": "code",
      "source": [
        "pip install mido"
      ],
      "metadata": {
        "colab": {
          "base_uri": "https://localhost:8080/"
        },
        "id": "6BFUWxSNXlAi",
        "outputId": "5d2dd41f-270a-4be9-afc9-9137c99915e8"
      },
      "execution_count": 1,
      "outputs": [
        {
          "output_type": "stream",
          "name": "stdout",
          "text": [
            "Requirement already satisfied: mido in /usr/local/lib/python3.10/dist-packages (1.3.2)\n",
            "Requirement already satisfied: packaging~=23.1 in /usr/local/lib/python3.10/dist-packages (from mido) (23.2)\n"
          ]
        }
      ]
    },
    {
      "cell_type": "code",
      "source": [
        "import numpy as np\n",
        "import matplotlib.pyplot as plt\n",
        "import mido\n",
        "from mido import MidiFile, MidiTrack, Message, MetaMessage"
      ],
      "metadata": {
        "id": "V7L5vjEoafhy"
      },
      "execution_count": 2,
      "outputs": []
    },
    {
      "cell_type": "markdown",
      "source": [
        "###Symbolic score\n",
        "For our analysis, we need to specify the notes in the scale. We will have to analyse the ascent and descent separately."
      ],
      "metadata": {
        "id": "najTTf5-ZEOU"
      }
    },
    {
      "cell_type": "code",
      "source": [
        "# Examples of scales\n",
        "\n",
        "ascent = np.asarray([0,4,5,7,9]) # change as required; only integer values between 0 and 11 in ascending order\n",
        "descent = np.asarray([0,4,5,7,9,10]) # change as required; only integer values between 0 and 11 in ascending order\n",
        "scale = np.asarray([0,1,4,5,7,8,11])"
      ],
      "metadata": {
        "id": "pt5fsSQDahgO"
      },
      "execution_count": 3,
      "outputs": []
    },
    {
      "cell_type": "markdown",
      "source": [
        "Alternatively, the scales can be represented using musical notation, like below:"
      ],
      "metadata": {
        "id": "-17h_y5sAh3b"
      }
    },
    {
      "cell_type": "code",
      "source": [
        "scale = ['Sa',\"Re1\",\"Ga2\",\"Ma1\",\"Pa\",\"Dha1\",\"Ni2\"]"
      ],
      "metadata": {
        "id": "I0EkXn3DAs-B"
      },
      "execution_count": 4,
      "outputs": []
    },
    {
      "cell_type": "markdown",
      "source": [
        "We can then convert this to numerical notation using this dictionary:"
      ],
      "metadata": {
        "id": "-QbUnfUYA-Jk"
      }
    },
    {
      "cell_type": "code",
      "source": [
        "note_levels = {\n",
        "    \"sa\":-12, \"re1\":-11, \"re2\":-10, \"ga1\":-9, \"ga2\":-8, \"ma1\":-7,\"ma2\":-6,\n",
        "    \"pa\":-5, \"dha1\":-4, \"dha2\":-3, \"ni1\":-2, \"ni2\":-1,\n",
        "    \"Sa\": 0, \"Re1\":1, \"Re2\": 2, \"Ga1\":3, \"Ga2\": 4, \"Ma1\": 5, \"Ma2\":6,\n",
        "    \"Pa\": 7, \"Dha1\":8, \"Dha2\": 9, \"Ni1\":10, \"Ni2\": 11,\n",
        "    \"SA\": 12, \"RE1\":13, \"RE2\": 14, \"GA1\":15, \"GA2\": 16, \"MA1\":17, \"MA2\":18,\n",
        "    \"PA\":19, \"DHA1\":20, \"DHA2\":21, \"NI1\":22, \"NI2\":23\n",
        "}"
      ],
      "metadata": {
        "id": "scJIWCR1BPfi"
      },
      "execution_count": 5,
      "outputs": []
    },
    {
      "cell_type": "code",
      "source": [
        "scale = np.asarray(list(note_levels[note] for note in scale))\n",
        "print(scale)"
      ],
      "metadata": {
        "colab": {
          "base_uri": "https://localhost:8080/"
        },
        "id": "csIvN8zgBTrb",
        "outputId": "a7d7124d-c0d0-4acd-8247-45e628f6b791"
      },
      "execution_count": 6,
      "outputs": [
        {
          "output_type": "stream",
          "name": "stdout",
          "text": [
            "[ 0  1  4  5  7  8 11]\n"
          ]
        }
      ]
    },
    {
      "cell_type": "markdown",
      "source": [
        "##Visualising a scale\n",
        "We will visualise the scale as a one-hot encoded heatmap: 0 for notes that are not present, and 1 for notes that are present in the scale.\n"
      ],
      "metadata": {
        "id": "5jTjvghWy3OW"
      }
    },
    {
      "cell_type": "code",
      "source": [
        "# one-hot encoding of one scale\n",
        "def one_hot_linear(scale):\n",
        "    one_hot_scale = np.asarray([])\n",
        "    one = np.asarray([1])\n",
        "    zero = np.asarray([0])\n",
        "    for i in range(12):\n",
        "        if i in scale:\n",
        "            one_hot_scale = np.append(one_hot_scale,one)\n",
        "        else:\n",
        "            one_hot_scale = np.append(one_hot_scale,zero)\n",
        "    return one_hot_scale.astype(int)\n",
        "\n",
        "# one-hot encoding of a set of scales\n",
        "def one_hot_matrix(interval_matrix):\n",
        "    one_hot_2D = np.arange(12)\n",
        "    for row in interval_matrix:\n",
        "        one_hot_2D = np.vstack((one_hot_2D,one_hot_linear(row)))\n",
        "    return one_hot_2D[1:][:]"
      ],
      "metadata": {
        "id": "4FEKTTRDzWOl"
      },
      "execution_count": 7,
      "outputs": []
    },
    {
      "cell_type": "markdown",
      "source": [
        "We will now define a function to plot the one-hot encoded scales."
      ],
      "metadata": {
        "id": "6GAIuplszWfz"
      }
    },
    {
      "cell_type": "code",
      "source": [
        "def heatmap(data, row_labels, col_labels, ax=None, **kwargs):\n",
        "    \"\"\"\n",
        "    Create a heatmap from a numpy array and two lists of labels.\n",
        "\n",
        "    Parameters\n",
        "    ----------\n",
        "    data\n",
        "        A 2D numpy array of shape (M, N).\n",
        "    row_labels\n",
        "        A list or array of length M with the labels for the rows.\n",
        "    col_labels\n",
        "        A list or array of length N with the labels for the columns.\n",
        "    ax\n",
        "        A `matplotlib.axes.Axes` instance to which the heatmap is plotted.  If\n",
        "        not provided, use current axes or create a new one.  Optional.\n",
        "    cbar_kw\n",
        "        A dictionary with arguments to `matplotlib.Figure.colorbar`.  Optional.\n",
        "    cbarlabel\n",
        "        The label for the colorbar.  Optional.\n",
        "    **kwargs\n",
        "        All other arguments are forwarded to `imshow`.\n",
        "    \"\"\"\n",
        "\n",
        "    if ax is None:\n",
        "        ax = plt.gca()\n",
        "\n",
        "    #if cbar_kw is None:\n",
        "    #    cbar_kw = {}\n",
        "\n",
        "    # Plot the heatmap\n",
        "    im = ax.imshow(data, **kwargs)\n",
        "\n",
        "    # Create colorbar\n",
        "    #cbar = ax.figure.colorbar(im, ax=ax, **cbar_kw)\n",
        "    #cbar.ax.set_ylabel(cbarlabel, rotation=-90, va=\"bottom\")\n",
        "\n",
        "    # Show all ticks and label them with the respective list entries.\n",
        "    ax.set_xticks(np.arange(data.shape[1]), labels=col_labels)\n",
        "    ax.set_yticks(np.arange(data.shape[0]), labels=row_labels)\n",
        "\n",
        "    # Let the horizontal axes labeling appear on top.\n",
        "    ax.tick_params(top=True, bottom=False,\n",
        "                   labeltop=True, labelbottom=False)\n",
        "\n",
        "    # Rotate the tick labels and set their alignment.\n",
        "    plt.setp(ax.get_xticklabels(), # rotation=-30,\n",
        "             ha=\"right\", rotation_mode=\"anchor\")\n",
        "\n",
        "    # Turn spines off and create white grid.\n",
        "    ax.spines[:].set_visible(False)\n",
        "\n",
        "    ax.set_xticks(np.arange(data.shape[1]+1)-.5, minor=True)\n",
        "    ax.set_yticks(np.arange(data.shape[0]+1)-.5, minor=True)\n",
        "    ax.grid(which=\"minor\", color=\"w\", linestyle='-', linewidth=3)\n",
        "    ax.tick_params(which=\"minor\", bottom=False, left=False)\n",
        "\n",
        "    return im #, cbar"
      ],
      "metadata": {
        "id": "y5mjg2T2y2Tk"
      },
      "execution_count": 8,
      "outputs": []
    },
    {
      "cell_type": "markdown",
      "source": [
        "Testing our functions:"
      ],
      "metadata": {
        "id": "Jdy0SkRG0F85"
      }
    },
    {
      "cell_type": "code",
      "source": [
        "x = np.array([[ 0,  4,  5,  7,  9], # sample data; set of scales. Each row is a scale\n",
        "       [ 0,  1,  3,  5,  8],\n",
        "       [ 0,  2,  4,  7,  11],\n",
        "       [ 0,  2,  5,  9, 10],\n",
        "       [ 0,  3,  7,  8, 10]])"
      ],
      "metadata": {
        "id": "xRqlkPym867q"
      },
      "execution_count": 9,
      "outputs": []
    },
    {
      "cell_type": "code",
      "source": [
        "y = one_hot_matrix(x)\n",
        "y"
      ],
      "metadata": {
        "colab": {
          "base_uri": "https://localhost:8080/"
        },
        "id": "ONOR0L240rz9",
        "outputId": "badc057c-bb3c-44e9-f95f-ada5025c2e07"
      },
      "execution_count": 10,
      "outputs": [
        {
          "output_type": "execute_result",
          "data": {
            "text/plain": [
              "array([[1, 0, 0, 0, 1, 1, 0, 1, 0, 1, 0, 0],\n",
              "       [1, 1, 0, 1, 0, 1, 0, 0, 1, 0, 0, 0],\n",
              "       [1, 0, 1, 0, 1, 0, 0, 1, 0, 0, 0, 1],\n",
              "       [1, 0, 1, 0, 0, 1, 0, 0, 0, 1, 1, 0],\n",
              "       [1, 0, 0, 1, 0, 0, 0, 1, 1, 0, 1, 0]])"
            ]
          },
          "metadata": {},
          "execution_count": 10
        }
      ]
    },
    {
      "cell_type": "code",
      "source": [
        "row_labels = np.arange(np.shape(y)[0])\n",
        "col_labels = ['Sa','Re1','Re2','Ga1','Ga2','Ma1','Ma2','Pa','Dha1','Dha2','Ni1','Ni2']"
      ],
      "metadata": {
        "id": "B7SykDzL3OiQ"
      },
      "execution_count": 11,
      "outputs": []
    },
    {
      "cell_type": "code",
      "source": [
        "fig, ax = plt.subplots()\n",
        "\n",
        "im = heatmap(y, row_labels, col_labels, ax=ax,\n",
        "                   cmap=\"YlGn\")\n",
        "#texts = annotate_heatmap(im, valfmt=\"{x:.1f} t\")\n",
        "\n",
        "fig.tight_layout()\n",
        "plt.show()"
      ],
      "metadata": {
        "colab": {
          "base_uri": "https://localhost:8080/",
          "height": 307
        },
        "id": "LQpCPKYs0iNJ",
        "outputId": "f9e06a8c-d19d-4c92-dc3d-0e2e0a95e1c7"
      },
      "execution_count": 12,
      "outputs": [
        {
          "output_type": "display_data",
          "data": {
            "text/plain": [
              "<Figure size 640x480 with 1 Axes>"
            ],
            "image/png": "[encoded data removed]"
          },
          "metadata": {}
        }
      ]
    },
    {
      "cell_type": "markdown",
      "source": [
        "Here, each row represents a scale. We will be dealing with sets of related scales, so this visualisation will be useful."
      ],
      "metadata": {
        "id": "OXmcJNsJ0W11"
      }
    },
    {
      "cell_type": "markdown",
      "source": [
        "###Colour-coded visualisation\n",
        "\n",
        "Assigning different colours to each note can help us better visualise how the scales are related to each other."
      ],
      "metadata": {
        "id": "KL7n07MPRHD_"
      }
    },
    {
      "cell_type": "code",
      "source": [
        "def graded_linear(scale):\n",
        "    graded_scale = np.asarray([])\n",
        "    one = np.asarray([1])\n",
        "    zero = np.asarray([-1])\n",
        "    for i in range(12):\n",
        "        if i in scale:\n",
        "            graded_scale = np.append(graded_scale,one*i)\n",
        "        else:\n",
        "            graded_scale = np.append(graded_scale,zero)\n",
        "    return graded_scale.astype(int)\n",
        "\n",
        "\n",
        "def graded_matrix(matrix):\n",
        "    graded_2D = graded_linear(matrix[0])\n",
        "    x = graded_linear(matrix[0])\n",
        "    for i in x:\n",
        "        if i >=0:\n",
        "            y = np.concatenate((x[i:],x[:i]))\n",
        "            graded_2D = np.vstack((graded_2D,y))\n",
        "    return graded_2D[1:][:]"
      ],
      "metadata": {
        "id": "Weu6yJoR8Fj9"
      },
      "execution_count": 13,
      "outputs": []
    },
    {
      "cell_type": "code",
      "source": [
        "y = graded_matrix(x)\n",
        "y"
      ],
      "metadata": {
        "colab": {
          "base_uri": "https://localhost:8080/"
        },
        "id": "4LteB-0P8i0o",
        "outputId": "5b515388-8751-491b-d5be-ee63a5e08622"
      },
      "execution_count": 14,
      "outputs": [
        {
          "output_type": "execute_result",
          "data": {
            "text/plain": [
              "array([[ 0, -1, -1, -1,  4,  5, -1,  7, -1,  9, -1, -1],\n",
              "       [ 4,  5, -1,  7, -1,  9, -1, -1,  0, -1, -1, -1],\n",
              "       [ 5, -1,  7, -1,  9, -1, -1,  0, -1, -1, -1,  4],\n",
              "       [ 7, -1,  9, -1, -1,  0, -1, -1, -1,  4,  5, -1],\n",
              "       [ 9, -1, -1,  0, -1, -1, -1,  4,  5, -1,  7, -1]])"
            ]
          },
          "metadata": {},
          "execution_count": 14
        }
      ]
    },
    {
      "cell_type": "code",
      "source": [
        "fig, ax = plt.subplots()\n",
        "\n",
        "im = heatmap(y, row_labels, col_labels, ax=ax,\n",
        "                   cmap=\"Paired\")\n",
        "#texts = annotate_heatmap(im, valfmt=\"{x:.1f} t\")\n",
        "\n",
        "fig.tight_layout()\n",
        "plt.show()"
      ],
      "metadata": {
        "colab": {
          "base_uri": "https://localhost:8080/",
          "height": 307
        },
        "id": "9Lee_NWo-BNj",
        "outputId": "c99f31e9-20ed-485e-bf59-a1411608cd3a"
      },
      "execution_count": 15,
      "outputs": [
        {
          "output_type": "display_data",
          "data": {
            "text/plain": [
              "<Figure size 640x480 with 1 Axes>"
            ],
            "image/png": "[encoded data removed]"
          },
          "metadata": {}
        }
      ]
    },
    {
      "cell_type": "markdown",
      "source": [
        "Here, we can see that each note in a scale corresponds to some other note in each of the other scales. For example, the tonic (sa, 0) in the top row (blue) becomes the minor third (komal ga/ ga2, 3) in the bottom row (blue). All the scales in this set are transpositions of each other."
      ],
      "metadata": {
        "id": "W-zGBhzQ0qE2"
      }
    },
    {
      "cell_type": "markdown",
      "source": [
        "##Calculating intervals\n",
        "\n",
        "Now we will calculate the intervals between all pairs of notes in a given scale. This will give us the interval matrix."
      ],
      "metadata": {
        "id": "EtE7wtCsGUo8"
      }
    },
    {
      "cell_type": "code",
      "source": [
        "def interval_matrix(scale):\n",
        "    matrix = scale\n",
        "    for item_1 in scale:\n",
        "        row = np.asarray([])\n",
        "        for item_2 in scale:\n",
        "            difference = item_2 - item_1\n",
        "            if difference < 0:\n",
        "                difference += 12\n",
        "            row = np.append(row,difference)\n",
        "        matrix = np.vstack((matrix,row))\n",
        "    return matrix[1:][:].astype(int)\n"
      ],
      "metadata": {
        "id": "ycovUvYFtOCo"
      },
      "execution_count": 16,
      "outputs": []
    },
    {
      "cell_type": "code",
      "source": [
        "x = interval_matrix(ascent)\n",
        "print(x)"
      ],
      "metadata": {
        "colab": {
          "base_uri": "https://localhost:8080/"
        },
        "id": "vVJoDHVZusv7",
        "outputId": "32841dc5-92c6-4245-88ed-5527b76e256b"
      },
      "execution_count": 17,
      "outputs": [
        {
          "output_type": "stream",
          "name": "stdout",
          "text": [
            "[[ 0  4  5  7  9]\n",
            " [ 8  0  1  3  5]\n",
            " [ 7 11  0  2  4]\n",
            " [ 5  9 10  0  2]\n",
            " [ 3  7  8 10  0]]\n"
          ]
        }
      ]
    },
    {
      "cell_type": "markdown",
      "source": [
        "We can also display this matrix in musical notations instead of numbers."
      ],
      "metadata": {
        "id": "EkCV9bwk8qUE"
      }
    },
    {
      "cell_type": "code",
      "source": [
        "def numbers_to_notation(score):\n",
        "    disp_score = []\n",
        "    for row in score:\n",
        "        phrase = []\n",
        "        for value in row:\n",
        "            phrase = np.append(phrase,get_key(value))\n",
        "        #print(phrase)\n",
        "        if len(disp_score) == 0:\n",
        "            disp_score = [np.concatenate((disp_score,phrase))]\n",
        "        else:\n",
        "            disp_score = np.concatenate((disp_score,[phrase]))\n",
        "\n",
        "    return disp_score\n",
        "\n",
        "\n",
        "def get_key(val):\n",
        "\n",
        "    for key, value in note_levels.items():\n",
        "        if val == value:\n",
        "            return key\n",
        "\n",
        "    return float(\"nan\")"
      ],
      "metadata": {
        "id": "1wfVkFyN50b9"
      },
      "execution_count": 18,
      "outputs": []
    },
    {
      "cell_type": "code",
      "source": [
        "print(numbers_to_notation(x))"
      ],
      "metadata": {
        "colab": {
          "base_uri": "https://localhost:8080/"
        },
        "id": "8tfOkHVy5sfW",
        "outputId": "3bd26a04-7847-4fc9-b1c0-c2957c329cb3"
      },
      "execution_count": 19,
      "outputs": [
        {
          "output_type": "stream",
          "name": "stdout",
          "text": [
            "[['Sa' 'Ga2' 'Ma1' 'Pa' 'Dha2']\n",
            " ['Dha1' 'Sa' 'Re1' 'Ga1' 'Ma1']\n",
            " ['Pa' 'Ni2' 'Sa' 'Re2' 'Ga2']\n",
            " ['Ma1' 'Dha2' 'Ni1' 'Sa' 'Re2']\n",
            " ['Ga1' 'Pa' 'Dha1' 'Ni1' 'Sa']]\n"
          ]
        }
      ]
    },
    {
      "cell_type": "markdown",
      "source": [
        "##Interpreting the interval matrix\n",
        "The interval matrices indicate the distance between all pairs of notes in semitones. This distance is directional. We must look horizontally for ascent and vertically for descent. For example, if we have a scale [0,4,5,7,9,10] (sa, shuddh ga/ ga3, shuddh ma/ ma1, pa, shuddh dha/ dha2, komal ni/ ni3) (depicted below),\n",
        "![scale](https://drive.google.com/uc?id=1Np-WgYQX55kr0KSYRl_LB4ocza_md7n9)\n",
        "\n",
        "\n",
        "we get the following interval matrix:\n",
        "\n",
        "![matrix](https://drive.google.com/uc?id=1XBFtuic7JRjKmxuhQxGCFRhWiYo6yLLf)\n",
        "\n",
        "\n",
        "\n",
        "\n",
        "\n",
        "\n",
        "\n",
        "\n",
        "\n",
        "\n",
        "\n",
        "\n",
        "To see how far above a note is from another, locate the zero of first note and see the number curresponding to the second note's column. For example, if we want to see how far ma (5) is from ga (4), we locate the zero of 4 and read the number in the column titled '5'.\n",
        "\n",
        "![ascent](https://drive.google.com/uc?id=1XUpJicCvmZw8GQSyCWy-1eC7M8JPW6fQ)\n",
        "\n",
        "\n",
        "\n",
        "\n",
        "\n",
        "\n",
        "\n",
        "\n",
        "\n",
        "\n",
        "\n",
        "To see how far below a note is from another, locate the zero of the first note and see the number corresponding to the second note's row. For example, if we want to see how far ma (5) is from pa (7), we locate the zero of 7 and read the number in the row titled '5'.\n",
        "\n",
        "![descent](https://drive.google.com/uc?id=1a1JlIg94OtkxLEzSm7cxU6i38x9xbdPU)\n"
      ],
      "metadata": {
        "id": "En3cBq1v8X5X"
      }
    },
    {
      "cell_type": "markdown",
      "source": [
        "##Transposition/ gṛhabheda\n",
        "\n",
        "For this, we choose any note from the given scale as the new tonic, and interpret all the other notes (the same notes as in the original scale) relative to this new tonic. For example, starting with the same scale as in the above example, if we choose ma as our new tonic, then the original ga becomes ni.\n",
        "\n",
        "We can approach transposition in two ways. One is to arrive at a different scale. A reinterpretation of all the notes of a given scale with respect to a new tonic yields a new scale. The other way is to stay in the same scale but hint at other scales by drawing parallels in the intervals."
      ],
      "metadata": {
        "id": "pS5VpSpw09cL"
      }
    },
    {
      "cell_type": "markdown",
      "source": [
        "###Tranposing the tonic\n",
        "\n",
        "To transpose the tonic of a given scale, read along the row number to which you want to transpose. For example, for the same scale as in the above example [0,4,5,7,9,10], if we want to transpose the tonic to ma (5), just read the scale along that row, and the transposed scale would be [0,2,4,5,7,11].\n",
        "\n",
        "\n",
        "\n",
        "\n",
        "\n",
        "\n",
        "![ascent](https://drive.google.com/uc?id=1D5dLwcWGyCsGS_zgG2X2y4PNP0uxQCIg)\n",
        "\n",
        "\n",
        "We must manually check whether this new scale is practically feasible and whether it conforms to theoretical constraints. We can then use this new scale as it is or to inspire phrases in our original scale."
      ],
      "metadata": {
        "id": "NrXYLX7-1DQU"
      }
    },
    {
      "cell_type": "markdown",
      "source": [
        "To view all rows as scales starting from zeroes, we need to align all the zeroes and add the upper sa (an octave above the tonic):"
      ],
      "metadata": {
        "id": "VpqViTPk1LJ2"
      }
    },
    {
      "cell_type": "code",
      "source": [
        "def align_tonic(matrix):\n",
        "    aligned = matrix[0]\n",
        "    for row in matrix:\n",
        "        i = int(np.where(row==0)[0])\n",
        "        y = np.concatenate((row[i:],row[:i]))\n",
        "        aligned = np.vstack((aligned,y))\n",
        "    return aligned[1:]\n",
        "\n",
        "\n",
        "def add_octave(matrix):\n",
        "    new_matrix = np.concatenate((matrix[0],[12]))\n",
        "    for row in matrix:\n",
        "        y = np.concatenate((row,[12]))\n",
        "        new_matrix = np.vstack((new_matrix,y))\n",
        "    return new_matrix[1:]\n"
      ],
      "metadata": {
        "id": "vT1_bxPgoZ2U"
      },
      "execution_count": 20,
      "outputs": []
    },
    {
      "cell_type": "code",
      "source": [
        "ascent = np.asarray([0,4,5,7,9,10])\n",
        "x = interval_matrix(ascent)"
      ],
      "metadata": {
        "id": "a0ofQR4tSgcw"
      },
      "execution_count": 21,
      "outputs": []
    },
    {
      "cell_type": "code",
      "source": [
        "a = align_tonic(x)\n",
        "b = add_octave(a)\n",
        "b"
      ],
      "metadata": {
        "colab": {
          "base_uri": "https://localhost:8080/"
        },
        "id": "ti30A3kmqTTQ",
        "outputId": "1dd85627-562a-44c3-a65a-1324bbaae13f"
      },
      "execution_count": 22,
      "outputs": [
        {
          "output_type": "stream",
          "name": "stderr",
          "text": [
            "<ipython-input-20-6f7c05daf240>:4: DeprecationWarning: Conversion of an array with ndim > 0 to a scalar is deprecated, and will error in future. Ensure you extract a single element from your array before performing this operation. (Deprecated NumPy 1.25.)\n",
            "  i = int(np.where(row==0)[0])\n"
          ]
        },
        {
          "output_type": "execute_result",
          "data": {
            "text/plain": [
              "array([[ 0,  4,  5,  7,  9, 10, 12],\n",
              "       [ 0,  1,  3,  5,  6,  8, 12],\n",
              "       [ 0,  2,  4,  5,  7, 11, 12],\n",
              "       [ 0,  2,  3,  5,  9, 10, 12],\n",
              "       [ 0,  1,  3,  7,  8, 10, 12],\n",
              "       [ 0,  2,  6,  7,  9, 11, 12]])"
            ]
          },
          "metadata": {},
          "execution_count": 22
        }
      ]
    },
    {
      "cell_type": "markdown",
      "source": [
        "We can view these transposed scales in the familiar sargam notation too."
      ],
      "metadata": {
        "id": "RadfL3kJ1imI"
      }
    },
    {
      "cell_type": "code",
      "source": [
        "c = numbers_to_notation(b)"
      ],
      "metadata": {
        "id": "py_2D06jFGV0"
      },
      "execution_count": 23,
      "outputs": []
    },
    {
      "cell_type": "code",
      "source": [
        "print(c)"
      ],
      "metadata": {
        "colab": {
          "base_uri": "https://localhost:8080/"
        },
        "id": "y8bPgMtu90t3",
        "outputId": "ab46fbbd-b5e8-406f-9083-eee30f6290ab"
      },
      "execution_count": 24,
      "outputs": [
        {
          "output_type": "stream",
          "name": "stdout",
          "text": [
            "[['Sa' 'Ga2' 'Ma1' 'Pa' 'Dha2' 'Ni1' 'SA']\n",
            " ['Sa' 'Re1' 'Ga1' 'Ma1' 'Ma2' 'Dha1' 'SA']\n",
            " ['Sa' 'Re2' 'Ga2' 'Ma1' 'Pa' 'Ni2' 'SA']\n",
            " ['Sa' 'Re2' 'Ga1' 'Ma1' 'Dha2' 'Ni1' 'SA']\n",
            " ['Sa' 'Re1' 'Ga1' 'Pa' 'Dha1' 'Ni1' 'SA']\n",
            " ['Sa' 'Re2' 'Ma2' 'Pa' 'Dha2' 'Ni2' 'SA']]\n"
          ]
        }
      ]
    },
    {
      "cell_type": "markdown",
      "source": [
        "##Harmony\n",
        "\n",
        "To build chords, we choose any note from the given scale as the root note, and look at intervals starting from the root note. From the list of available intervals, we can then choose sets of intervals that make up major triads, minor triads, tetrads, sus4 triads, etc."
      ],
      "metadata": {
        "id": "9hSNlaUI3Srr"
      }
    },
    {
      "cell_type": "markdown",
      "source": [
        "###Intervals relative to the root note\n",
        "\n",
        "To find intervals relative to a note, read along the row number corresponding to the note that you want to set as the root. This is the same method used for transposition above.\n",
        "\n",
        "For example, for the same scale as in the above example [0,4,5,7,9,10], if you want to find all intervals relative to ma (5), just read the scale along that row, which would give [0,2,4,5,7,11].\n",
        "\n",
        "\n",
        "\n",
        "\n",
        "\n",
        "\n",
        "![ascent](https://drive.google.com/uc?id=1D5dLwcWGyCsGS_zgG2X2y4PNP0uxQCIg)\n",
        "\n",
        "\n",
        "We can now pick all combinations of intervals from the available relative intervals to make up different kinds of chords."
      ],
      "metadata": {
        "id": "eatX18F2vstu"
      }
    },
    {
      "cell_type": "markdown",
      "source": [
        "After algning the zeroes and adding the octave, we get the set of transposed scales that result from interval-preserving transposition of the given scale. We will use it to generate chords.\n",
        "\n",
        "First, we will define all the chords that we want to consider for our analysis. For now, we will consider only simple triads and tetrads."
      ],
      "metadata": {
        "id": "Qr8135M6MwzM"
      }
    },
    {
      "cell_type": "code",
      "source": [
        "chord_list = {\"major\":[0,4,7],\n",
        "              \"major_7\":[0,4,7,11],\n",
        "              \"dominant_7\":[0,4,7,10],\n",
        "              \"minor\":[0,3,7],\n",
        "              \"minor_7\":[0,3,7,10],\n",
        "              \"augmented\":[0,4,8],\n",
        "              \"augmented_major_7\": [0,4,8,11],\n",
        "              \"augmented_7\": [0,4,8,10],\n",
        "              \"diminished\":[0,3,6],\n",
        "              \"diminished_major_7\":[0,3,6,11],\n",
        "              \"diminished_7\":[0,3,6,9],\n",
        "              \"sus_2\":[0,2,7],\n",
        "              \"sus_4\":[0,5,7]}"
      ],
      "metadata": {
        "id": "w0dukDYnNG61"
      },
      "execution_count": 25,
      "outputs": []
    },
    {
      "cell_type": "markdown",
      "source": [
        "We now define a function to look for these chords in the interval matrix."
      ],
      "metadata": {
        "id": "WXH3s_osYHpO"
      }
    },
    {
      "cell_type": "code",
      "source": [
        "def find_chords(scale):\n",
        "    matrix = interval_matrix(scale)\n",
        "    chords_matrix = []\n",
        "    label_matrix = []\n",
        "    for row in matrix:\n",
        "        chords_row = []\n",
        "        label_row = []\n",
        "        for chord in chord_list:\n",
        "            if set(chord_list[chord]).issubset(row):\n",
        "                chords_row.append(chord_list[chord])\n",
        "                label_row.append(chord)\n",
        "        chords_matrix.append(chords_row)\n",
        "        label_matrix.append(label_row)\n",
        "\n",
        "    return chords_matrix,label_matrix"
      ],
      "metadata": {
        "id": "cQCLyAVFMv7L"
      },
      "execution_count": 26,
      "outputs": []
    },
    {
      "cell_type": "code",
      "source": [
        "ascent"
      ],
      "metadata": {
        "colab": {
          "base_uri": "https://localhost:8080/"
        },
        "id": "zUUVOvkNkr05",
        "outputId": "21b9f923-ff87-4b19-ae45-524c1b55c291"
      },
      "execution_count": 27,
      "outputs": [
        {
          "output_type": "execute_result",
          "data": {
            "text/plain": [
              "array([ 0,  4,  5,  7,  9, 10])"
            ]
          },
          "metadata": {},
          "execution_count": 27
        }
      ]
    },
    {
      "cell_type": "code",
      "source": [
        "find_chords(ascent)"
      ],
      "metadata": {
        "colab": {
          "base_uri": "https://localhost:8080/"
        },
        "id": "2CIuWOHZcMZ-",
        "outputId": "f2cb7c13-06a5-44a3-ab51-61e0f5bd42a6"
      },
      "execution_count": 28,
      "outputs": [
        {
          "output_type": "execute_result",
          "data": {
            "text/plain": [
              "([[[0, 4, 7], [0, 4, 7, 10], [0, 5, 7]],\n",
              "  [[0, 3, 6]],\n",
              "  [[0, 4, 7], [0, 4, 7, 11], [0, 2, 7], [0, 5, 7]],\n",
              "  [],\n",
              "  [[0, 3, 7], [0, 3, 7, 10]],\n",
              "  [[0, 2, 7]]],\n",
              " [['major', 'dominant_7', 'sus_4'],\n",
              "  ['diminished'],\n",
              "  ['major', 'major_7', 'sus_2', 'sus_4'],\n",
              "  [],\n",
              "  ['minor', 'minor_7'],\n",
              "  ['sus_2']])"
            ]
          },
          "metadata": {},
          "execution_count": 28
        }
      ]
    },
    {
      "cell_type": "markdown",
      "source": [
        "Chords in numerical score and chords as labels (names) can be stored in two separate variables, like this:"
      ],
      "metadata": {
        "id": "0aDGSs3Y2MxG"
      }
    },
    {
      "cell_type": "code",
      "source": [
        "x,l = find_chords(ascent)"
      ],
      "metadata": {
        "id": "ZXavYoHKdZ7h"
      },
      "execution_count": 29,
      "outputs": []
    },
    {
      "cell_type": "code",
      "source": [
        "x"
      ],
      "metadata": {
        "colab": {
          "base_uri": "https://localhost:8080/"
        },
        "id": "HGC9GUQ8oG0i",
        "outputId": "941d98f0-f84e-48bc-f441-c1089d350a59"
      },
      "execution_count": 30,
      "outputs": [
        {
          "output_type": "execute_result",
          "data": {
            "text/plain": [
              "[[[0, 4, 7], [0, 4, 7, 10], [0, 5, 7]],\n",
              " [[0, 3, 6]],\n",
              " [[0, 4, 7], [0, 4, 7, 11], [0, 2, 7], [0, 5, 7]],\n",
              " [],\n",
              " [[0, 3, 7], [0, 3, 7, 10]],\n",
              " [[0, 2, 7]]]"
            ]
          },
          "metadata": {},
          "execution_count": 30
        }
      ]
    },
    {
      "cell_type": "markdown",
      "source": [
        "To plot the chords with a given root note, we plug in the value of that note's index in the ascent array in the variable `root_index`. For example, if the ascent is `[ 0,  4,  5,  7,  9, 10]`, then `root_index = 2` gives us all chords beginning with Ma (5)."
      ],
      "metadata": {
        "id": "ToiRlcm92bMQ"
      }
    },
    {
      "cell_type": "code",
      "source": [
        "def plot_chords(root_index,chords_matrix,label_matrix,scale):\n",
        "    if chords_matrix[root_index] == []:\n",
        "        print(\"No chords from this root\")\n",
        "        return None\n",
        "    y = one_hot_matrix(chords_matrix[root_index])\n",
        "\n",
        "    row_labels = []\n",
        "    for label in label_matrix[root_index]:\n",
        "            row_labels.append(label)\n",
        "    col_labels = ['Sa','Re1','Re2','Ga1','Ga2','Ma1','Ma2','Pa','Dha1','Dha2','Ni1','Ni2']\n",
        "    col_labels = col_labels[scale[root_index]:] + col_labels[:scale[root_index]]\n",
        "\n",
        "\n",
        "    fig, ax = plt.subplots()\n",
        "\n",
        "    im = heatmap(y, row_labels, col_labels, ax=ax, cmap=\"YlGn\")\n",
        "\n",
        "    fig.tight_layout()\n",
        "    plt.show()\n",
        "\n"
      ],
      "metadata": {
        "id": "NHDnbB9mimEv"
      },
      "execution_count": 31,
      "outputs": []
    },
    {
      "cell_type": "code",
      "source": [
        "plot_chords(root_index = 2, chords_matrix = x, label_matrix = l, scale = ascent)"
      ],
      "metadata": {
        "colab": {
          "base_uri": "https://localhost:8080/",
          "height": 242
        },
        "id": "7R9WnSyHkcgu",
        "outputId": "57399065-6570-4d2d-cd04-b65ec6f0ce2d"
      },
      "execution_count": 32,
      "outputs": [
        {
          "output_type": "display_data",
          "data": {
            "text/plain": [
              "<Figure size 640x480 with 1 Axes>"
            ],
            "image/png": "[encoded data removed]"
          },
          "metadata": {}
        }
      ]
    },
    {
      "cell_type": "code",
      "source": [
        "def plot_all_chords(scale,chords_matrix,label_matrix):\n",
        "\n",
        "    y = one_hot_matrix([scale])\n",
        "\n",
        "    for index,row in enumerate(chords_matrix):\n",
        "        #print(f\"current index: {index}, row: {row}\")\n",
        "        if row == []:\n",
        "            continue\n",
        "        row = unalign(row,scale[index])\n",
        "        for list in row:\n",
        "            y = np.vstack((y,one_hot_matrix([list])))\n",
        "        #print(f\"one_hot_updated: {y}\")\n",
        "\n",
        "\n",
        "    col_labels = ['Sa','Re1','Re2','Ga1','Ga2','Ma1','Ma2','Pa','Dha1','Dha2','Ni1','Ni2']\n",
        "    row_labels = ['full_scale']\n",
        "    for index,row in enumerate(label_matrix):\n",
        "        for label in row:\n",
        "            row_labels.append(f\"{col_labels[scale[index]]}, \"+label)\n",
        "\n",
        "    fig, ax = plt.subplots()\n",
        "\n",
        "    im = heatmap(y, row_labels, col_labels, ax=ax,\n",
        "                    cmap=\"YlGn\")\n",
        "\n",
        "    ax.set_title(\"Chords\")\n",
        "\n",
        "    fig.tight_layout()\n",
        "    plt.show()\n",
        "\n",
        "    return None\n",
        "\n",
        "\n",
        "def unalign(row,degree):\n",
        "    unaligned_list = []\n",
        "    for list in row:\n",
        "        new_list = [(n+degree)%12 for n in list]\n",
        "        unaligned_list.append(new_list)\n",
        "\n",
        "    return unaligned_list"
      ],
      "metadata": {
        "id": "2BuowyZUfokN"
      },
      "execution_count": 33,
      "outputs": []
    },
    {
      "cell_type": "code",
      "source": [
        "plot_all_chords(ascent,x,l)"
      ],
      "metadata": {
        "colab": {
          "base_uri": "https://localhost:8080/",
          "height": 486
        },
        "id": "noYAlZ7Ls05z",
        "outputId": "58971d58-9f47-47c9-9e3c-c9d63050a8a6"
      },
      "execution_count": 34,
      "outputs": [
        {
          "output_type": "display_data",
          "data": {
            "text/plain": [
              "<Figure size 640x480 with 1 Axes>"
            ],
            "image/png": "[encoded data removed]"
          },
          "metadata": {}
        }
      ]
    },
    {
      "cell_type": "markdown",
      "source": [
        "##Hearing the scales in MIDI\n",
        "We can generate MIDI files to hear the scales. For this, we need to specify a scale and the fine tuning."
      ],
      "metadata": {
        "id": "HPwtvJ0Shqqk"
      }
    },
    {
      "cell_type": "code",
      "source": [
        "scale_1 = [0,4,5,7, 9,10]\n",
        "chromatic_ascent = [0,1,2,3,4,5,6,7,8,9,10,11] # set of all permissible notes in a scale; only middle octave; scope: global; do not edit\n",
        "c_n = [0,0,0,0,0,0,0,0,0,0,0,0] # fine tuning in cents; change as required"
      ],
      "metadata": {
        "id": "BIXMahjxmch7"
      },
      "execution_count": 35,
      "outputs": []
    },
    {
      "cell_type": "markdown",
      "source": [
        "Additionally, we need a function to extract the position of a given pitch class relative to A. We are using a function here that returns this position as well as the actual frequency of the note, but we don't need the value of frequency for this analysis."
      ],
      "metadata": {
        "id": "XAd5TL294lmi"
      }
    },
    {
      "cell_type": "code",
      "source": [
        "def note_to_freq(note):\n",
        "    if len(note) < 2 or len(note) > 3 or note[0] < 'A' or note[0] > 'G':\n",
        "        return 0\n",
        "    if len(note) == 3:\n",
        "        if note[1] == 'b':\n",
        "            acc = -1\n",
        "        elif note[1] == '#':\n",
        "            acc = 1\n",
        "        else:\n",
        "            return 0\n",
        "        octave = int(note[2])\n",
        "    else:\n",
        "        acc = 0\n",
        "        octave = int(note[1])\n",
        "    SEMITONES = {'A': 0, 'B': 2, 'C': -9, 'D': -7, 'E': -5, 'F': -4, 'G': -2}\n",
        "    n = 12 * (octave - 4) + SEMITONES[note[0]] + acc\n",
        "    f = 440 * (2 ** (float(n) / 12.0))\n",
        "    #print note, f\n",
        "    return f,n"
      ],
      "metadata": {
        "id": "MwHXq7XdmEv_"
      },
      "execution_count": 36,
      "outputs": []
    },
    {
      "cell_type": "markdown",
      "source": [
        "We also need a function to convert a score from our convention (where sa = 0) to MIDI note numbers."
      ],
      "metadata": {
        "id": "YBRahDkU5ETG"
      }
    },
    {
      "cell_type": "code",
      "source": [
        "def score_to_MIDI_score(score,ascent,tonic_note):\n",
        "    MIDI_score = []\n",
        "    tonic_f,n = note_to_freq(tonic_note)\n",
        "    n = n+57 +12\n",
        "    i = 0\n",
        "    for row in score:\n",
        "        for chord in row:\n",
        "            #print(f\"current chord: {chord}\")\n",
        "            MIDI_chord = []\n",
        "            for note in chord:\n",
        "                MIDI_chord.append(note+n+ascent[i])\n",
        "            #print(f\"appending chord: {MIDI_chord}\")\n",
        "            MIDI_score.append(MIDI_chord)\n",
        "            #print(f\"current score: {MIDI_score}\")\n",
        "        i+=1\n",
        "    return(MIDI_score)\n",
        "\n",
        "def scale_to_MIDI_scale(scale,tonic_note):\n",
        "    MIDI_score = np.asarray([])\n",
        "    tonic_f,n = note_to_freq(tonic_note)\n",
        "    n = n+57 +12\n",
        "    for note in scale:\n",
        "        MIDI_score = np.append(MIDI_score,note+n).astype(int)\n",
        "    return(MIDI_score)"
      ],
      "metadata": {
        "id": "8QvEFWPNlmno"
      },
      "execution_count": 37,
      "outputs": []
    },
    {
      "cell_type": "markdown",
      "source": [
        "Testing the functions"
      ],
      "metadata": {
        "id": "jleSVV594NOG"
      }
    },
    {
      "cell_type": "code",
      "source": [
        "tonic_note='C3'"
      ],
      "metadata": {
        "id": "6_8MNE6cn0ag"
      },
      "execution_count": 38,
      "outputs": []
    },
    {
      "cell_type": "code",
      "source": [
        "x"
      ],
      "metadata": {
        "colab": {
          "base_uri": "https://localhost:8080/"
        },
        "id": "2vmvKaRxn1_D",
        "outputId": "5dbedd17-c501-4737-b255-8cd5fd5bcedc"
      },
      "execution_count": 39,
      "outputs": [
        {
          "output_type": "execute_result",
          "data": {
            "text/plain": [
              "[[[0, 4, 7], [0, 4, 7, 10], [0, 5, 7]],\n",
              " [[0, 3, 6]],\n",
              " [[0, 4, 7], [0, 4, 7, 11], [0, 2, 7], [0, 5, 7]],\n",
              " [],\n",
              " [[0, 3, 7], [0, 3, 7, 10]],\n",
              " [[0, 2, 7]]]"
            ]
          },
          "metadata": {},
          "execution_count": 39
        }
      ]
    },
    {
      "cell_type": "code",
      "source": [
        "ascent"
      ],
      "metadata": {
        "colab": {
          "base_uri": "https://localhost:8080/"
        },
        "id": "pPTXQAJstR44",
        "outputId": "9217d176-732e-4f8e-b332-06426101ed77"
      },
      "execution_count": 40,
      "outputs": [
        {
          "output_type": "execute_result",
          "data": {
            "text/plain": [
              "array([ 0,  4,  5,  7,  9, 10])"
            ]
          },
          "metadata": {},
          "execution_count": 40
        }
      ]
    },
    {
      "cell_type": "code",
      "source": [
        "score_to_MIDI_score(x,ascent,tonic_note)"
      ],
      "metadata": {
        "colab": {
          "base_uri": "https://localhost:8080/"
        },
        "id": "7DnpsH9RnkhS",
        "outputId": "1fbbf40d-ffcc-45c1-812c-f32dee1a74ca"
      },
      "execution_count": 41,
      "outputs": [
        {
          "output_type": "execute_result",
          "data": {
            "text/plain": [
              "[[48, 52, 55],\n",
              " [48, 52, 55, 58],\n",
              " [48, 53, 55],\n",
              " [52, 55, 58],\n",
              " [53, 57, 60],\n",
              " [53, 57, 60, 64],\n",
              " [53, 55, 60],\n",
              " [53, 58, 60],\n",
              " [57, 60, 64],\n",
              " [57, 60, 64, 67],\n",
              " [58, 60, 65]]"
            ]
          },
          "metadata": {},
          "execution_count": 41
        }
      ]
    },
    {
      "cell_type": "code",
      "source": [
        "scale_to_MIDI_scale(ascent,tonic_note)"
      ],
      "metadata": {
        "colab": {
          "base_uri": "https://localhost:8080/"
        },
        "id": "qqW6RupHpU7t",
        "outputId": "24fc8631-1590-4a69-f6fb-0bc5e544040a"
      },
      "execution_count": 42,
      "outputs": [
        {
          "output_type": "execute_result",
          "data": {
            "text/plain": [
              "array([48, 52, 53, 55, 57, 58])"
            ]
          },
          "metadata": {},
          "execution_count": 42
        }
      ]
    },
    {
      "cell_type": "markdown",
      "source": [
        "We will use the following function to create a MIDI file for our scale and chord matrix."
      ],
      "metadata": {
        "id": "yAM22deP5Q-E"
      }
    },
    {
      "cell_type": "code",
      "source": [
        "def create_midi_file(MIDI_score, ascent, c_n, tonic_note, bpm = 80):\n",
        "\n",
        "    temp=int(1000000*60/bpm)\n",
        "    octave = ascent[0] + 12\n",
        "\n",
        "    # Create a MIDI file and a track\n",
        "    midi_file = MidiFile()\n",
        "    track = MidiTrack()\n",
        "    midi_file.tracks.append(track)\n",
        "\n",
        "    # Set the instrument (program) for the track (optional)\n",
        "    track.append(Message('program_change', program=0, time=0))\n",
        "\n",
        "    # Set the tempo\n",
        "    track.append(MetaMessage('set_tempo', tempo=temp, time=0))\n",
        "\n",
        "    bend_value = 0\n",
        "\n",
        "    MIDI_ascent = scale_to_MIDI_scale(add_octave([ascent])[0],tonic_note)\n",
        "    # Add note-on and note-off messages for each note of the scale\n",
        "    for note_pitch in MIDI_ascent:\n",
        "        if note_pitch == octave:\n",
        "            time = 480\n",
        "        else:\n",
        "            time = 0\n",
        "\n",
        "        # Note On message\n",
        "        track.append(Message('note_on', note=note_pitch, velocity=100, time=0))\n",
        "\n",
        "        # Fine-tuning the pitch\n",
        "        index = MIDI_note_to_index(note_pitch, chromatic_ascent, tonic_note)\n",
        "        if(c_n[index] != 0 or bend_value != 0):\n",
        "            bend_value = int(c_n[index]*8191/200) # works only for pitch bend range of +/- 2 semitones\n",
        "            track.append(Message('pitchwheel', pitch=bend_value, time=0))\n",
        "\n",
        "        # Note Off message (assuming a duration of 1 beat for each note, except for the upper sa, which lasts 2 beats)\n",
        "        track.append(Message('note_off', note=note_pitch, velocity=100, time=480+time))  # 480 ticks = 1 beat\n",
        "\n",
        "    # adding chords\n",
        "    for chord in MIDI_score:\n",
        "        chord_start = True\n",
        "        for note_pitch in chord:\n",
        "            # Note On message\n",
        "            track.append(Message('note_on', note=note_pitch, velocity=100, time=0))\n",
        "\n",
        "            # Fine-tuning the pitch\n",
        "            index = MIDI_note_to_index(note_pitch, chromatic_ascent, tonic_note)\n",
        "            if(c_n[index] != 0 or bend_value != 0):\n",
        "                bend_value = int(c_n[index]*8191/200) # works only for pitch bend range of +/- 2 semitones\n",
        "                track.append(Message('pitchwheel', pitch=bend_value, time=0))\n",
        "\n",
        "        for note_pitch in chord:\n",
        "            if chord_start:\n",
        "                time = 480*2    # 480 ticks = 1 beat\n",
        "            # Note Off message\n",
        "            track.append(Message('note_off', note=note_pitch, velocity=100, time=time))\n",
        "            time = 0\n",
        "            chord_start = False\n",
        "\n",
        "    return(midi_file)\n",
        "\n",
        "def MIDI_note_to_index(note,ascent,tonic_note):\n",
        "    MIDI_ascent = scale_to_MIDI_scale(ascent,tonic_note)\n",
        "    #print(f\"MIDI_ascent = {MIDI_ascent}, note = {note}\")\n",
        "    index = int(np.where(MIDI_ascent%12 == note%12)[0])\n",
        "    return index"
      ],
      "metadata": {
        "id": "MagZ26ILl_SW"
      },
      "execution_count": 43,
      "outputs": []
    },
    {
      "cell_type": "markdown",
      "source": [
        "Let's define an analysis function so we can just call that function to analyse various scales."
      ],
      "metadata": {
        "id": "URSedsxG6Usy"
      }
    },
    {
      "cell_type": "code",
      "source": [
        "def interval_analysis(ascent,c_n, filename, tonic_note='C3',bpm=160, reg_colour = False, note_levels = note_levels):\n",
        "    x = interval_matrix(ascent) # calculating the interval matrix\n",
        "    aligned_matrix = align_tonic(x) # aligning the tonics\n",
        "    aligned_matrix = add_octave(aligned_matrix) # adding the upper sa to each scale\n",
        "    aligned_scales = numbers_to_notation(aligned_matrix)\n",
        "\n",
        "    # creating and saving a MIDI file\n",
        "    score, l = find_chords(ascent)\n",
        "    MIDI_score = score_to_MIDI_score(score,ascent, tonic_note)\n",
        "    midi_file = create_midi_file(MIDI_score, ascent, c_n, tonic_note,bpm)\n",
        "    midi_file.save(filename+'.mid')\n",
        "    print(\"MIDI file saved as \"+filename+'.mid')\n",
        "\n",
        "    # visualising the interval matrix\n",
        "    if reg_colour == False:\n",
        "        y = graded_matrix(x)\n",
        "        palette = 'Paired'\n",
        "    else:\n",
        "        y = one_hot_matrix(x)\n",
        "        palette = 'YlGn'\n",
        "\n",
        "    fig, ax = plt.subplots()\n",
        "    row_labels = np.arange(np.shape(y)[0])\n",
        "    col_labels = ['Sa','Re1','Re2','Ga1','Ga2','Ma1','Ma2','Pa','Dha1','Dha2','Ni1','Ni2']\n",
        "    im = heatmap(y, row_labels, col_labels, ax=ax,\n",
        "                    cmap=palette)\n",
        "    ax.set_title(\"Transposition\")\n",
        "    fig.tight_layout()\n",
        "    plt.show()\n",
        "\n",
        "    plot_all_chords(ascent,score,l)\n",
        "    '''\n",
        "    # visualising the scales as graphs\n",
        "    score = numbers_to_notation(aligned_matrix)\n",
        "    G = construct_graph_from_phrases(score)\n",
        "    visualize_graph(G, score, note_levels)\n",
        "    '''"
      ],
      "metadata": {
        "id": "12Am4SRHm2Bh"
      },
      "execution_count": 44,
      "outputs": []
    },
    {
      "cell_type": "markdown",
      "source": [
        "##Examples\n",
        "\n",
        "We will initialise the tonic to C3 and tempo to 160 bpm for all examples. We will also define the fine-tuning parameters."
      ],
      "metadata": {
        "id": "06ZuW5OXApD4"
      }
    },
    {
      "cell_type": "code",
      "source": [
        "tonic_note = 'C3' # specifying the tonic note\n",
        "bpm = 160 # tempo in beats per minute\n",
        "\n",
        "chromatic_ascent = [0,1,2,3,4,5,6,7,8,9,10,11] # set of all permissible notes in a scale; only middle octave; scope: global; do not edit\n",
        "c_n = [0,0,0,0,0,0,0,0,0,0,0,0] # fine tuning in cents; change as required"
      ],
      "metadata": {
        "id": "zdgX6MVK6d5X"
      },
      "execution_count": 45,
      "outputs": []
    },
    {
      "cell_type": "markdown",
      "source": [
        "###Example 1"
      ],
      "metadata": {
        "id": "DdZGxvqFAv4X"
      }
    },
    {
      "cell_type": "code",
      "source": [
        "scale_1 = [0,2,4,5,7,11]"
      ],
      "metadata": {
        "id": "KrDcpwcqA5KO"
      },
      "execution_count": 46,
      "outputs": []
    },
    {
      "cell_type": "code",
      "source": [
        "interval_analysis(scale_1,c_n, filename='scale_1', tonic_note='C3',bpm=160, reg_colour = True)"
      ],
      "metadata": {
        "id": "SbYIufIhfMMb",
        "colab": {
          "base_uri": "https://localhost:8080/",
          "height": 954
        },
        "outputId": "477089f5-1f5a-4a45-d53e-6b7563ea15dd"
      },
      "execution_count": 47,
      "outputs": [
        {
          "output_type": "stream",
          "name": "stderr",
          "text": [
            "<ipython-input-20-6f7c05daf240>:4: DeprecationWarning: Conversion of an array with ndim > 0 to a scalar is deprecated, and will error in future. Ensure you extract a single element from your array before performing this operation. (Deprecated NumPy 1.25.)\n",
            "  i = int(np.where(row==0)[0])\n",
            "<ipython-input-43-09c221bf30c4>:65: DeprecationWarning: Conversion of an array with ndim > 0 to a scalar is deprecated, and will error in future. Ensure you extract a single element from your array before performing this operation. (Deprecated NumPy 1.25.)\n",
            "  index = int(np.where(MIDI_ascent%12 == note%12)[0])\n"
          ]
        },
        {
          "output_type": "stream",
          "name": "stdout",
          "text": [
            "MIDI file saved as scale_1.mid\n"
          ]
        },
        {
          "output_type": "display_data",
          "data": {
            "text/plain": [
              "<Figure size 640x480 with 1 Axes>"
            ],
            "image/png": "[encoded data removed]"
          },
          "metadata": {}
        },
        {
          "output_type": "display_data",
          "data": {
            "text/plain": [
              "<Figure size 640x480 with 1 Axes>"
            ],
            "image/png": "[encoded data removed]"
          },
          "metadata": {}
        }
      ]
    },
    {
      "cell_type": "markdown",
      "source": [
        "###Example 2"
      ],
      "metadata": {
        "id": "wU63z4KfCNje"
      }
    },
    {
      "cell_type": "code",
      "source": [
        "scale_2 = [0,2,4,7,11]"
      ],
      "metadata": {
        "id": "ayykqXYtBVcj"
      },
      "execution_count": 48,
      "outputs": []
    },
    {
      "cell_type": "code",
      "source": [
        "interval_analysis(scale_2,c_n, filename='scale_2', tonic_note='C3',bpm=160, reg_colour = False)"
      ],
      "metadata": {
        "colab": {
          "base_uri": "https://localhost:8080/",
          "height": 840
        },
        "id": "8vN-iljh70Zt",
        "outputId": "457fbc83-f906-49d9-f62f-b1967548d635"
      },
      "execution_count": 49,
      "outputs": [
        {
          "output_type": "stream",
          "name": "stderr",
          "text": [
            "<ipython-input-20-6f7c05daf240>:4: DeprecationWarning: Conversion of an array with ndim > 0 to a scalar is deprecated, and will error in future. Ensure you extract a single element from your array before performing this operation. (Deprecated NumPy 1.25.)\n",
            "  i = int(np.where(row==0)[0])\n",
            "<ipython-input-43-09c221bf30c4>:65: DeprecationWarning: Conversion of an array with ndim > 0 to a scalar is deprecated, and will error in future. Ensure you extract a single element from your array before performing this operation. (Deprecated NumPy 1.25.)\n",
            "  index = int(np.where(MIDI_ascent%12 == note%12)[0])\n"
          ]
        },
        {
          "output_type": "stream",
          "name": "stdout",
          "text": [
            "MIDI file saved as scale_2.mid\n"
          ]
        },
        {
          "output_type": "display_data",
          "data": {
            "text/plain": [
              "<Figure size 640x480 with 1 Axes>"
            ],
            "image/png": "[encoded data removed]"
          },
          "metadata": {}
        },
        {
          "output_type": "display_data",
          "data": {
            "text/plain": [
              "<Figure size 640x480 with 1 Axes>"
            ],
            "image/png": "[encoded data removed]"
          },
          "metadata": {}
        }
      ]
    },
    {
      "cell_type": "markdown",
      "source": [
        "###Example 3\n",
        "Enter your own example scale and parameters below."
      ],
      "metadata": {
        "id": "4Kh0ksQrDwsB"
      }
    },
    {
      "cell_type": "code",
      "source": [
        "scale_3 = [0,4,7] # specify the notes in your scale; only integers between 0 and 11, in ascending order\n",
        "filename = \"scale_3\" # specify the file name you want to save the MIDI file with\n",
        "tonic_note = \"C3\"\n",
        "colour = False # set to True for regular visualisation, and False for colour-coded visualisation\n",
        "c_n = [0,0,0,0,0,0,0,0,0,0,0,0] # fine tuning in cents; change if required"
      ],
      "metadata": {
        "id": "6_sJjWCBXxhk"
      },
      "execution_count": 50,
      "outputs": []
    },
    {
      "cell_type": "code",
      "source": [
        "interval_analysis(scale_3,c_n, filename, tonic_note,bpm=160, reg_colour = colour)"
      ],
      "metadata": {
        "colab": {
          "base_uri": "https://localhost:8080/",
          "height": 492
        },
        "id": "xpXIO9-5D27h",
        "outputId": "227edc09-64ae-472f-e892-8d9d51df4a71"
      },
      "execution_count": 51,
      "outputs": [
        {
          "output_type": "stream",
          "name": "stderr",
          "text": [
            "<ipython-input-20-6f7c05daf240>:4: DeprecationWarning: Conversion of an array with ndim > 0 to a scalar is deprecated, and will error in future. Ensure you extract a single element from your array before performing this operation. (Deprecated NumPy 1.25.)\n",
            "  i = int(np.where(row==0)[0])\n",
            "<ipython-input-43-09c221bf30c4>:65: DeprecationWarning: Conversion of an array with ndim > 0 to a scalar is deprecated, and will error in future. Ensure you extract a single element from your array before performing this operation. (Deprecated NumPy 1.25.)\n",
            "  index = int(np.where(MIDI_ascent%12 == note%12)[0])\n"
          ]
        },
        {
          "output_type": "stream",
          "name": "stdout",
          "text": [
            "MIDI file saved as scale_3.mid\n"
          ]
        },
        {
          "output_type": "display_data",
          "data": {
            "text/plain": [
              "<Figure size 640x480 with 1 Axes>"
            ],
            "image/png": "[encoded data removed]"
          },
          "metadata": {}
        },
        {
          "output_type": "display_data",
          "data": {
            "text/plain": [
              "<Figure size 640x480 with 1 Axes>"
            ],
            "image/png": "[encoded data removed]"
          },
          "metadata": {}
        }
      ]
    },
    {
      "cell_type": "code",
      "source": [],
      "metadata": {
        "id": "Yj5HPjM_FFaH"
      },
      "execution_count": null,
      "outputs": []
    }
  ]
}